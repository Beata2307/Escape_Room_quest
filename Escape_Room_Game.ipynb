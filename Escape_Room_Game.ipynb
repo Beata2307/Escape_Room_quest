{
 "cells": [
  {
   "cell_type": "markdown",
   "metadata": {},
   "source": [
    "# Escape Game"
   ]
  },
  {
   "cell_type": "markdown",
   "metadata": {},
   "source": [
    "## Requirements\n",
    "\n",
    "- Modules:  random, pygame, Time , functions (our own module)\n",
    "- Sound Files: door_opened.wav , door_closed.wav ,escaped.wav, found.wav , failed.wav, christmas.wav, success.wav \n",
    "- Specific settings for Jupyter Noteboob: \"%load_ext autoreload\" , \"%autoreload 2\""
   ]
  },
  {
   "cell_type": "markdown",
   "metadata": {},
   "source": [
    "### Specific settings for Jupiter Notebook"
   ]
  },
  {
   "cell_type": "code",
   "execution_count": 1,
   "metadata": {
    "tags": []
   },
   "outputs": [],
   "source": [
    "%load_ext autoreload\n",
    "%autoreload 2 "
   ]
  },
  {
   "cell_type": "markdown",
   "metadata": {},
   "source": [
    "### Loading required Modules"
   ]
  },
  {
   "cell_type": "code",
   "execution_count": 4,
   "metadata": {
    "tags": []
   },
   "outputs": [],
   "source": [
    "# pip install pygame"
   ]
  },
  {
   "cell_type": "code",
   "execution_count": 1,
   "metadata": {
    "tags": []
   },
   "outputs": [
    {
     "name": "stdout",
     "output_type": "stream",
     "text": [
      "pygame 2.5.2 (SDL 2.28.3, Python 3.11.5)\n",
      "Hello from the pygame community. https://www.pygame.org/contribute.html\n"
     ]
    }
   ],
   "source": [
    "import pygame\n",
    "import time\n",
    "import random\n",
    "from functions import answer_puzzle\n",
    "from functions import play_sound\n",
    "from functions import christmas_tree"
   ]
  },
  {
   "cell_type": "markdown",
   "metadata": {},
   "source": [
    "### Initial Rooms & Items definition"
   ]
  },
  {
   "cell_type": "code",
   "execution_count": 5,
   "metadata": {
    "tags": []
   },
   "outputs": [],
   "source": [
    "# define rooms and items\n",
    "\n",
    "couch = {\n",
    "    \"name\": \"couch\",\n",
    "    \"type\": \"furniture\",\n",
    "}\n",
    "\n",
    "door_a = {\n",
    "    \"name\": \"door a\",\n",
    "    \"type\": \"door\",\n",
    "}\n",
    "\n",
    "key_a = {\n",
    "    \"name\": \"key for door a\",\n",
    "    \"type\": \"key\",\n",
    "    \"target\": door_a,\n",
    "}\n",
    "\n",
    "piano = {\n",
    "    \"name\": \"piano\",\n",
    "    \"type\": \"furniture\",\n",
    "}\n",
    "\n",
    "game_room = {\n",
    "    \"name\": \"game room\",\n",
    "    \"type\": \"room\",\n",
    "}\n",
    "\n",
    "outside = {\n",
    "  \"name\": \"outside\"\n",
    "}\n",
    "\n",
    "####################### New stuff in the game room ################################\n",
    "\n",
    "big_flower = {\n",
    "    \"name\": \"big flower\",\n",
    "    \"type\": \"furniture\",\n",
    "}\n",
    "\n",
    "painting = {\n",
    "    \"name\": \"painting\",\n",
    "    \"type\": \"furniture\",\n",
    "}\n",
    "\n",
    "armchair = {\n",
    "    \"name\": \"armchair\",\n",
    "    \"type\": \"furniture\",\n",
    "}\n",
    "\n",
    "parrot_cage = {\n",
    "    \"name\": \"parrot cage\",\n",
    "    \"type\": \"furniture\",\n",
    "}\n",
    "##################################################################################\n",
    "\n",
    "####\n",
    "\n",
    "bedroom_1 = {\n",
    "    \"name\" : \"Bedroom 1\",\n",
    "    \"type\" : \"room\",\n",
    "}\n",
    "\n",
    "wardrobe = {\n",
    "    \"name\" : \"Wardrobe\",\n",
    "    \"type\" : \"furniture\",\n",
    "}\n",
    "\n",
    "night_table = {\n",
    "    \"name\" : \"Night table\",\n",
    "    \"type\" : \"furniture\",\n",
    "}\n",
    "\n",
    "lamp = {\n",
    "    \"name\" : \"Broken Lamp\",\n",
    "    \"type\" : \"furniture\",\n",
    "}\n",
    "\n",
    "scarecrow = {\n",
    "    \"name\" : \"Scarecrow\",\n",
    "    \"type\" : \"furniture\",\n",
    "}\n",
    "\n",
    "queen_bed = {\n",
    "    \"name\" : \"Queen Bed\",\n",
    "    \"type\" : \"furniture\",\n",
    "}\n",
    "\n",
    "door_b = {\n",
    "    \"name\": \"door b\",\n",
    "    \"type\": \"door\",\n",
    "}\n",
    "\n",
    "key_b = {\n",
    "    \"name\": \"key for door b\",\n",
    "    \"type\": \"key\",\n",
    "    \"target\": door_b,\n",
    "}\n",
    "\n",
    "##################\n",
    "\n",
    "bedroom_2 = {\n",
    "    \"name\" : \"Bedroom 2\",\n",
    "    \"type\" : \"room\",\n",
    "}\n",
    "\n",
    "double_bed = {\n",
    "    \"name\" : \"Double Bed\",\n",
    "    \"type\" : \"furniture\",\n",
    "}\n",
    "\n",
    "dresser = {\n",
    "    \"name\" : \"dresser\",\n",
    "    \"type\" : \"furniture\",\n",
    "}\n",
    "\n",
    "\n",
    "bookshelf = {\n",
    "    \"name\" : \"bookshelf\",\n",
    "    \"type\" : \"furniture\",\n",
    "}\n",
    "\n",
    "desk = {\n",
    "    \"name\" : \"desk\",\n",
    "    \"type\" : \"furniture\",\n",
    "}\n",
    "\n",
    "chair = {\n",
    "    \"name\" : \"chair\",\n",
    "    \"type\" : \"furniture\",\n",
    "}\n",
    "\n",
    "teddy_bear = {\n",
    "    \"name\" : \"teddy bear\",\n",
    "    \"type\" : \"furniture\",\n",
    "}\n",
    "\n",
    "\n",
    "door_c = {\n",
    "    \"name\": \"door c\",\n",
    "    \"type\": \"door\",\n",
    "}\n",
    "\n",
    "key_c = {\n",
    "    \"name\": \"key for door c\",\n",
    "    \"type\": \"key\",\n",
    "    \"target\": door_c,\n",
    "}\n",
    "\n",
    "door_d = {\n",
    "    \"name\": \"door d\",\n",
    "    \"type\": \"door\",\n",
    "}\n",
    "\n",
    "key_d = {\n",
    "    \"name\": \"key for door d\",\n",
    "    \"type\": \"key\",\n",
    "    \"target\": door_d,\n",
    "}\n",
    "\n",
    "####################\n",
    "\n",
    "############################ BATHROOM ======================================\n",
    "\n",
    "bathroom = {\n",
    "    \"name\" : \"bathroom\",\n",
    "    \"type\" : \"room\",\n",
    "}\n",
    "\n",
    "sink = {\n",
    "    \"name\" : \"sink\",\n",
    "    \"type\" : \"furniture\",\n",
    "}\n",
    "\n",
    "shower = {\n",
    "    \"name\" : \"shower\",\n",
    "    \"type\" : \"furniture\",\n",
    "}\n",
    "\n",
    "toilet = {\n",
    "    \"name\" : \"toilet\",\n",
    "    \"type\" : \"furniture\",\n",
    "}\n",
    "\n",
    "washing_mashine = {\n",
    "    \"name\" : \"washing machine\",\n",
    "    \"type\" : \"furniture\",\n",
    "}\n",
    "\n",
    "mirror = {\n",
    "    \"name\" : \"mirror\",\n",
    "    \"type\" : \"furniture\",\n",
    "}\n",
    "\n",
    "#=================================================\n",
    "\n",
    "living_room = {\n",
    "    \"name\" : \"Living Room\",\n",
    "    \"type\" : \"room\",\n",
    "}\n",
    "\n",
    "table = {\n",
    "    \"name\" : \"table\",\n",
    "    \"type\" : \"furniture\",\n",
    "}\n",
    "\n",
    "chairs = {\n",
    "    \"name\" : \"chairs\",\n",
    "    \"type\" : \"furniture\",\n",
    "}\n",
    "\n",
    "chandelier = {\n",
    "    \"name\" : \"chandelier\",\n",
    "    \"type\" : \"furniture\",\n",
    "}\n",
    "\n",
    "presents = {\n",
    "    \"name\" : \"presents\",\n",
    "    \"type\" : \"furniture\",\n",
    "}\n",
    "\n",
    "santas_sledge = {\n",
    "    \"name\" : \"santas sledge\",\n",
    "    \"type\" : \"furniture\",\n",
    "}\n",
    "\n",
    "elf_figurines = {\n",
    "    \"name\" : \"elf figurines\",\n",
    "    \"type\" : \"furniture\",\n",
    "}\n",
    "\n",
    "christmas_tree = {\n",
    "    \"name\" : \"christmas tree\",\n",
    "    \"type\" : \"furniture\",\n",
    "}\n",
    "\n",
    "door_e = {\n",
    "    \"name\": \"door e\",\n",
    "    \"type\": \"door\",\n",
    "}\n",
    "\n",
    "key_e = {\n",
    "    \"name\": \"key for door e\",\n",
    "    \"type\": \"key\",\n",
    "    \"target\": door_e,\n",
    "}\n",
    "\n",
    "all_rooms = [game_room, bedroom_1, bedroom_2, bathroom, living_room, outside]\n",
    "\n",
    "all_doors = [door_a, door_b, door_c, door_d, door_e ]\n",
    "\n",
    "# define which items/rooms are related\n",
    "\n",
    "object_relations = {\n",
    "    \"game room\": [couch, piano, big_flower, armchair, painting, parrot_cage, door_a],\n",
    "    \"piano\": [key_a],\n",
    "    \"door a\" : [game_room, bedroom_1],\n",
    "    \"Bedroom 1\" : [wardrobe, night_table, lamp, scarecrow, queen_bed, door_a, door_b, door_c, door_d],\n",
    "    \"door b\" : [bedroom_1, bedroom_2],\n",
    "    \"door c\" : [bedroom_1, living_room],\n",
    "    \"Queen Bed\" : [key_b],\n",
    "    \"Bedroom 2\" : [bookshelf, desk, chair, teddy_bear, double_bed, dresser, door_b],\n",
    "    \"teddy bear\" : [key_d],\n",
    "    \"bathroom\" : [sink, shower, toilet, washing_mashine, mirror, door_d],\n",
    "    \"mirror\" : [key_c],\n",
    "    \"Living Room\" : [table, christmas_tree, elf_figurines, santas_sledge, presents, chandelier, chairs, door_e],\n",
    "    \"door d\" : [bedroom_1, bathroom],\n",
    "    \"door e\" : [living_room, outside],\n",
    "    \"outside\": [door_e],\n",
    "    \"christmas tree\" : [key_e]\n",
    "}\n",
    "\n",
    "answers = {\n",
    "    \"game room\": \"in the piano.\",\n",
    "    \"Bedroom 1\" : \" under the pillow on Bed.\",\n",
    "    \"Bedroom 2\" : \" in teddy bear. \",\n",
    "    \"Living Room\" : \" under the Christmas Tree ^*^\",\n",
    "    \"bathroom\" : \" behind the mirror.\"\n",
    "}\n",
    "# define which items/rooms are related\n",
    "\n",
    "# object_relations = {\n",
    "#     \"game room\": [couch, piano, door_a],\n",
    "#     \"piano\": [key_a],\n",
    "#     \"outside\": [door_a],\n",
    "#     \"door a\": [game_room, outside]\n",
    "# }\n",
    "\n",
    "\n",
    "# Sounds Path\n",
    "\n",
    "\n",
    "found = \"sounds/found.wav\"\n",
    "door_locked = \"sounds/door_locked.wav\"\n",
    "door_opened = \"sounds/door_opened.wav\"\n",
    "escaped = \"sounds/escaped.wav\"\n",
    "failed = \"sounds/failed.wav\"\n",
    "success = \"sounds/success.wav\"\n",
    "christmas = \"sounds/christmas.wav\"\n",
    "\n",
    "\n",
    "# define game state. Do not directly change this dict.\n",
    "# Instead, when a new game starts, make a copy of this\n",
    "# dict and use the copy to store gameplay state. This\n",
    "# way you can replay the game multiple times.\n",
    "\n",
    "\n",
    "INIT_GAME_STATE = {\n",
    "    \"current_room\": game_room,\n",
    "    \"keys_collected\": [],\n",
    "    \"target_room\": outside,\n",
    "    \"history\" : []\n",
    "}"
   ]
  },
  {
   "cell_type": "code",
   "execution_count": 3,
   "metadata": {
    "tags": []
   },
   "outputs": [],
   "source": [
    "def linebreak():\n",
    "    \"\"\"\n",
    "    Print a line break\n",
    "    \"\"\"\n",
    "    print(\"\\n\\n\")\n",
    "\n",
    "def start_game():\n",
    "    \"\"\"\n",
    "    Start the game\n",
    "    \"\"\"\n",
    "    print(\"\"\"\n",
    "    You wake up on a couch and find yourself in a strange house with no windows which you have never been to before.\n",
    "    You don't remember why you are here and what had happened before. You feel some unknown danger is approaching and you must get out of the house, NOW!\n",
    "\n",
    "    Find keys to unlock doors between rooms and reach the exit. Keys are hidden, so examine each room carefully.\n",
    "    Try solving a puzzle to discover key locations.\n",
    "    GOOD LUCK !\n",
    "\n",
    "          \"\"\")\n",
    "    play_room(game_state[\"current_room\"])\n",
    "\n",
    "def play_room(room):  # room is a dictionary: game_state[\"current_room\"] = {'current_room': {'name': 'game room', 'type': 'room'}}\n",
    "    \"\"\"\n",
    "    Play a room. First check if the room being played is the target room.\n",
    "    If it is, the game will end with success. Otherwise, let player either\n",
    "    explore (list all items in this room) or examine an item found here.\n",
    "    \"\"\"\n",
    "\n",
    "    game_state[\"current_room\"] = room\n",
    "\n",
    "#-------------------------------------------------------------------------------------------------------------\n",
    "# To keep track of rooms that were visited\n",
    "\n",
    "    if game_state[\"current_room\"] not in game_state[\"history\"]:\n",
    "        game_state[\"history\"].append(game_state[\"current_room\"])\n",
    "\n",
    "\n",
    "#-------------------------------------------------------------------------------------------------------------\n",
    "\n",
    "    if(game_state[\"current_room\"] == game_state[\"target_room\"]):  #  game_state[\"target_room\"] = {'name': 'outside'}\n",
    "        play_sound(success)\n",
    "        print(\"Congrats! You escaped the room!\")\n",
    "    else:\n",
    "        explore_room(room)\n",
    "#-------------------------------------------------------------------------------------------------------------\n",
    "# In game room you have only two options: examine and explore, in any other you can also 'go back'\n",
    "\n",
    "        if (room[\"name\"] == game_room[\"name\"]):\n",
    "            print(\"What would you like to do?\\n '1 - solve puzzle'\\n '2 - examine'\\n \")\n",
    "            intended_action = input().strip()\n",
    "        else:\n",
    "            print(\"What would you like to do?\\n '1 - solve puzzle'\\n '2 - examine'\\n '3 - go back\")\n",
    "            intended_action = input().strip()\n",
    "#-----------------------------------------------------------------------------------------------------\n",
    "        if intended_action == \"1\":\n",
    "            q = answer_puzzle()\n",
    "            if q == 1:\n",
    "                play_sound(success)\n",
    "                print(\"Great job ! \")\n",
    "                print(\"The key is hidden \\033[1m%s \\033[0m\" % answers[room[\"name\"]])\n",
    "                if room[\"name\"] == \"Living Room\":\n",
    "                    play_sound(christmas)\n",
    "                    christmas_tree(10)\n",
    "            else:\n",
    "                print(\"Wrong answer. Sorry you have to try again or look for the key yourself.\")\n",
    "            play_room(room)\n",
    "        elif intended_action == \"2\":\n",
    "            items = [i[\"name\"] for i in object_relations[room[\"name\"]]]\n",
    "            examine_item(input(\"What would you like to examine among \" + \", \".join(items).strip()+ \"? \"))\n",
    "        elif intended_action == \"3\":\n",
    "            go_back()\n",
    "        else:\n",
    "            print(\"Not sure what you mean. Type the number associated to the action you want to do.\")\n",
    "            play_room(room)\n",
    "        linebreak()\n",
    "\n",
    "\n",
    "#====================================================================\n",
    "def go_back():\n",
    "    print(\"To which room do you want to go back? Choose the room number:\")\n",
    "\n",
    "    [print(f\"{i} {entry['name']}\") for i, entry in enumerate(game_state[\"history\"]) if entry != game_state[\"current_room\"]]\n",
    "\n",
    "    choice = int(input(\"Your choice: \").strip())\n",
    "    back = game_state[\"history\"][choice]\n",
    "    play_room(back)\n",
    "\n",
    "#====================================================================\n",
    "\n",
    "def explore_room(room):\n",
    "    \"\"\"\n",
    "    Explore a room. List all items belonging to this room.\n",
    "    \"\"\"\n",
    "    items = []\n",
    "    for i in object_relations[room[\"name\"]]:  #room[\"name\"] as argument gives actuacl room name (Beedroom) and everything associated with that is found in the object_relatiosn\n",
    "        items.append(i[\"name\"])\n",
    "    print(\"You are in \" + room[\"name\"] + \". You find \" + \", \".join(items))\n",
    "\n",
    "\n",
    "def get_next_room_of_door(door, current_room):\n",
    "    \"\"\"\n",
    "    From object_relations, find the two rooms connected to the given door.\n",
    "    Return the room that is not the current_room.\n",
    "    \"\"\"\n",
    "    connected_rooms = object_relations[door[\"name\"]]  # you search for door[\"name\" = door a, and its all relations\n",
    "\n",
    "    for room in connected_rooms:\n",
    "        if current_room != room:\n",
    "            return room\n",
    "\n",
    "\n",
    "\n",
    "\n",
    "def examine_item(item_name):  #  item_name is the input from the user so it is a string\n",
    "    \"\"\"\n",
    "    Examine an item which can be a door or furniture.\n",
    "    First make sure the intended item belongs to the current room.\n",
    "    Then check if the item is a door. Tell player if key hasn't been\n",
    "    collected yet. Otherwise ask player if they want to go to the next\n",
    "    room. If the item is not a door, then check if it contains keys.\n",
    "    Collect the key if found and update the game state. At the end,\n",
    "    play either the current or the next room depending on the game state\n",
    "    to keep playing.\n",
    "    \"\"\"\n",
    "    current_room = game_state[\"current_room\"]\n",
    "    next_room = \"\"\n",
    "    output = None\n",
    "\n",
    "    for item in object_relations[current_room[\"name\"]]:    # shown below = loops over all elements of a given room ! item -dictionary ! {'name': 'couch', 'type': 'furniture'}\n",
    "        if(item[\"name\"].lower() == item_name.lower()):\n",
    "            output = \"You examine \" + item_name.lower() + \". \"\n",
    "            if item_name.lower() == \"christmas tree\": christmas_tree(10)\n",
    "            if(item[\"type\"] == \"door\"):\n",
    "                have_key = False\n",
    "                for key in game_state[\"keys_collected\"]:\n",
    "                    if(key[\"target\"] == item):\n",
    "                        have_key = True\n",
    "                if(have_key): # == True\n",
    "                    #get_sound(door_opening) -> SOUND TO INCLUDE\n",
    "                    play_sound(door_opened)\n",
    "                    output += \"You unlock it with a key you have.\"\n",
    "                    next_room = get_next_room_of_door(item, current_room)\n",
    "                else:\n",
    "                    #get_sound(door_opening) -> SOUND TO INCLUDE\n",
    "                    play_sound(door_locked)\n",
    "                    output += \"It is locked but you don't have the key.\"\n",
    "            else: # we cannot look for type==key because objects with key do not have a key type ! but furniture\n",
    "                if(item[\"name\"] in object_relations and len(object_relations[item[\"name\"]])>0):\n",
    "                    item_found = object_relations[item[\"name\"]].pop()\n",
    "                    play_sound(found)\n",
    "                    game_state[\"keys_collected\"].append(item_found)\n",
    "                    output += \"You find \" + item_found[\"name\"] + \".\"\n",
    "                    # item_found = object_relations[item[\"name\"]].pop() # we take name associated with given key\n",
    "                    # game_state[\"keys_collected\"].append(item_found)\n",
    "                    # output += \"You find \" + item_found[\"name\"] + \".\"\n",
    "                else:\n",
    "                    output += \"There isn't anything interesting about it.\"\n",
    "            print(output)\n",
    "            break\n",
    "\n",
    "    if(output is None):\n",
    "        print(\"The item you requested is not found in the current room.\")\n",
    "\n",
    "    if(next_room and input(\"Do you want to go to the next room? Enter 'yes' or 'no. '\").strip() == 'yes'):\n",
    "        play_room(next_room)\n",
    "    else:\n",
    "        play_room(current_room)\n",
    "\n",
    "\n",
    "def answer_puzzle():\n",
    "    \"\"\"\n",
    "    This function randomly asks a question and captures the user answer from the input.\n",
    "    Then the answer is compared against the solution.\n",
    "    The function returns 1 if the answer and solution matches and 0 otherwise.\n",
    "    The questions and the corresponding solutions are define in a form of keys/pairs within a dictionary.\n",
    "    \"\"\"\n",
    "\n",
    "#    import random\n",
    "    enigmas = {\n",
    "    \"I have four legs, a back, but no head. What am I?\":\"chair\",\n",
    "    \"I can fall off a building and live, but put me in water I will die. What am I?\":\"paper\",\n",
    "    \"I have keys, but no locks and no rooms. You can enter, but you can’t go outside. What am I?\":\"keyboard\",\n",
    "    \"You answer me, but I never ask you questions. What am I?\":\"telephone\",\n",
    "    \"You change me every month, no matter how much you use me. What am I?\":\"calendar\",\n",
    "    \"If you break me, I’ll not stop working.If you can touch me, my work is done.If you lose me, you must find me with a ring soon after.What am I?\":\"heart\",\n",
    "    \"What goes on four legs in the morning, on two legs at noon, and on three legs in the evening?\":\"man\",\n",
    "    \"I have teeth, but cannot chew. What am I?\":\"comb\",\n",
    "    \"I’m excellent to taste, but horrible to smell. What am I?\":\"tongue\",\n",
    "    \"I am made of water, but I’m not wet. What am I?\":\"cloud\",\n",
    "    \"I have a ring but no finger. What am I?\":\"telephone\",\n",
    "    \"I’m full of keys but I can’t open any door. What am I?\":\"piano\",\n",
    "    \"I’m tall when I’m young and I’m short when I’m old. What am I?\":\"candle\",\n",
    "    \"I have a single eye but cannot see. What am I?\":\"needle\",\n",
    "    \"I have a face but no eyes, hands but no arms. What am I?\":\"clock\",\n",
    "    \"I sit in a corner while travelling around the world. What am I?\":\"stamp\",\n",
    "    \"I always run but never walk, often murmur but never talk, have a bed but never sleep, have a mouth but never eat. What am I?\":\"river\"\n",
    "          }\n",
    "\n",
    "    questions = [k for k,v in enigmas.items()]\n",
    "    i = random.randint(0, len(enigmas.keys()) - 1)\n",
    "\n",
    "    if enigmas[questions[i]] in input(questions[i]).lower().split(): \n",
    "        result = 1\n",
    "    else:\n",
    "        play_sound(failed)\n",
    "        result = 0\n",
    "\n",
    "    return result\n",
    "\n",
    "def christmas_tree(x):\n",
    "    print(\"\\n\".join([f\"{'*'*(2* n + 1):^{2*x+1}}\" for n in (*range(x), 0, 0)]))\n",
    "\n",
    "\n",
    "\n",
    "# import pygame\n",
    "# import time\n",
    "\n",
    "def play_sound(file_path):\n",
    "    pygame.init()\n",
    "    pygame.mixer.music.load(file_path)\n",
    "    pygame.mixer.music.play()\n",
    "    time.sleep(2)\n",
    "    pygame.quit()\n",
    "\n"
   ]
  },
  {
   "cell_type": "code",
   "execution_count": 4,
   "metadata": {
    "tags": []
   },
   "outputs": [
    {
     "name": "stdout",
     "output_type": "stream",
     "text": [
      "\n",
      "    You wake up on a couch and find yourself in a strange house with no windows which you have never been to before.\n",
      "    You don't remember why you are here and what had happened before. You feel some unknown danger is approaching and you must get out of the house, NOW!\n",
      "\n",
      "    Find keys to unlock doors between rooms and reach the exit. Keys are hidden, so examine each room carefully.\n",
      "    Try solving a puzzle to discover key locations.\n",
      "    GOOD LUCK !\n",
      "\n",
      "          \n",
      "You are in game room. You find couch, piano, big flower, armchair, painting, parrot cage, door a\n",
      "What would you like to do?\n",
      " '1 - solve puzzle'\n",
      " '2 - examine'\n",
      " \n"
     ]
    },
    {
     "name": "stdin",
     "output_type": "stream",
     "text": [
      " 1\n",
      "I have a single eye but cannot see. What am I? needle\n"
     ]
    },
    {
     "name": "stdout",
     "output_type": "stream",
     "text": [
      "Great job ! \n",
      "The key is hidden \u001b[1min the piano. \u001b[0m\n",
      "You are in game room. You find couch, piano, big flower, armchair, painting, parrot cage, door a\n",
      "What would you like to do?\n",
      " '1 - solve puzzle'\n",
      " '2 - examine'\n",
      " \n"
     ]
    },
    {
     "name": "stdin",
     "output_type": "stream",
     "text": [
      " 2\n",
      "What would you like to examine among couch, piano, big flower, armchair, painting, parrot cage, door a?  piano\n"
     ]
    },
    {
     "name": "stdout",
     "output_type": "stream",
     "text": [
      "You examine piano. You find key for door a.\n",
      "You are in game room. You find couch, piano, big flower, armchair, painting, parrot cage, door a\n",
      "What would you like to do?\n",
      " '1 - solve puzzle'\n",
      " '2 - examine'\n",
      " \n"
     ]
    },
    {
     "name": "stdin",
     "output_type": "stream",
     "text": [
      " 2\n",
      "What would you like to examine among couch, piano, big flower, armchair, painting, parrot cage, door a?  door a\n"
     ]
    },
    {
     "name": "stdout",
     "output_type": "stream",
     "text": [
      "You examine door a. You unlock it with a key you have.\n"
     ]
    },
    {
     "name": "stdin",
     "output_type": "stream",
     "text": [
      "Do you want to go to the next room? Enter 'yes' or 'no. ' yes\n"
     ]
    },
    {
     "name": "stdout",
     "output_type": "stream",
     "text": [
      "You are in Bedroom 1. You find Wardrobe, Night table, Broken Lamp, Scarecrow, Queen Bed, door a, door b, door c, door d\n",
      "What would you like to do?\n",
      " '1 - solve puzzle'\n",
      " '2 - examine'\n",
      " '3 - go back\n"
     ]
    },
    {
     "name": "stdin",
     "output_type": "stream",
     "text": [
      " 1\n",
      "You answer me, but I never ask you questions. What am I? telephone\n"
     ]
    },
    {
     "name": "stdout",
     "output_type": "stream",
     "text": [
      "Great job ! \n",
      "The key is hidden \u001b[1m under the pillow on Bed. \u001b[0m\n",
      "You are in Bedroom 1. You find Wardrobe, Night table, Broken Lamp, Scarecrow, Queen Bed, door a, door b, door c, door d\n",
      "What would you like to do?\n",
      " '1 - solve puzzle'\n",
      " '2 - examine'\n",
      " '3 - go back\n"
     ]
    },
    {
     "name": "stdin",
     "output_type": "stream",
     "text": [
      " 2\n",
      "What would you like to examine among Wardrobe, Night table, Broken Lamp, Scarecrow, Queen Bed, door a, door b, door c, door d?  Queen Bed\n"
     ]
    },
    {
     "name": "stdout",
     "output_type": "stream",
     "text": [
      "You examine queen bed. You find key for door b.\n",
      "You are in Bedroom 1. You find Wardrobe, Night table, Broken Lamp, Scarecrow, Queen Bed, door a, door b, door c, door d\n",
      "What would you like to do?\n",
      " '1 - solve puzzle'\n",
      " '2 - examine'\n",
      " '3 - go back\n"
     ]
    },
    {
     "name": "stdin",
     "output_type": "stream",
     "text": [
      " 2\n",
      "What would you like to examine among Wardrobe, Night table, Broken Lamp, Scarecrow, Queen Bed, door a, door b, door c, door d?  door b\n"
     ]
    },
    {
     "name": "stdout",
     "output_type": "stream",
     "text": [
      "You examine door b. You unlock it with a key you have.\n"
     ]
    },
    {
     "name": "stdin",
     "output_type": "stream",
     "text": [
      "Do you want to go to the next room? Enter 'yes' or 'no. ' yes\n"
     ]
    },
    {
     "name": "stdout",
     "output_type": "stream",
     "text": [
      "You are in Bedroom 2. You find bookshelf, desk, chair, teddy bear, Double Bed, dresser, door b\n",
      "What would you like to do?\n",
      " '1 - solve puzzle'\n",
      " '2 - examine'\n",
      " '3 - go back\n"
     ]
    },
    {
     "name": "stdin",
     "output_type": "stream",
     "text": [
      " 2\n",
      "What would you like to examine among bookshelf, desk, chair, teddy bear, Double Bed, dresser, door b?  teddy bear\n"
     ]
    },
    {
     "name": "stdout",
     "output_type": "stream",
     "text": [
      "You examine teddy bear. You find key for door d.\n",
      "You are in Bedroom 2. You find bookshelf, desk, chair, teddy bear, Double Bed, dresser, door b\n",
      "What would you like to do?\n",
      " '1 - solve puzzle'\n",
      " '2 - examine'\n",
      " '3 - go back\n"
     ]
    },
    {
     "name": "stdin",
     "output_type": "stream",
     "text": [
      " 3\n"
     ]
    },
    {
     "name": "stdout",
     "output_type": "stream",
     "text": [
      "To which room do you want to go back? Choose the room number:\n",
      "0 game room\n",
      "1 Bedroom 1\n"
     ]
    },
    {
     "name": "stdin",
     "output_type": "stream",
     "text": [
      "Your choice:  1\n"
     ]
    },
    {
     "name": "stdout",
     "output_type": "stream",
     "text": [
      "You are in Bedroom 1. You find Wardrobe, Night table, Broken Lamp, Scarecrow, Queen Bed, door a, door b, door c, door d\n",
      "What would you like to do?\n",
      " '1 - solve puzzle'\n",
      " '2 - examine'\n",
      " '3 - go back\n"
     ]
    },
    {
     "name": "stdin",
     "output_type": "stream",
     "text": [
      " 2\n",
      "What would you like to examine among Wardrobe, Night table, Broken Lamp, Scarecrow, Queen Bed, door a, door b, door c, door d?  door d\n"
     ]
    },
    {
     "name": "stdout",
     "output_type": "stream",
     "text": [
      "You examine door d. You unlock it with a key you have.\n"
     ]
    },
    {
     "name": "stdin",
     "output_type": "stream",
     "text": [
      "Do you want to go to the next room? Enter 'yes' or 'no. ' yes\n"
     ]
    },
    {
     "name": "stdout",
     "output_type": "stream",
     "text": [
      "You are in bathroom. You find sink, shower, toilet, washing machine, mirror, door d\n",
      "What would you like to do?\n",
      " '1 - solve puzzle'\n",
      " '2 - examine'\n",
      " '3 - go back\n"
     ]
    },
    {
     "name": "stdin",
     "output_type": "stream",
     "text": [
      " 2\n",
      "What would you like to examine among sink, shower, toilet, washing machine, mirror, door d?  mirror\n"
     ]
    },
    {
     "name": "stdout",
     "output_type": "stream",
     "text": [
      "You examine mirror. You find key for door c.\n",
      "You are in bathroom. You find sink, shower, toilet, washing machine, mirror, door d\n",
      "What would you like to do?\n",
      " '1 - solve puzzle'\n",
      " '2 - examine'\n",
      " '3 - go back\n"
     ]
    },
    {
     "name": "stdin",
     "output_type": "stream",
     "text": [
      " 3\n"
     ]
    },
    {
     "name": "stdout",
     "output_type": "stream",
     "text": [
      "To which room do you want to go back? Choose the room number:\n",
      "0 game room\n",
      "1 Bedroom 1\n",
      "2 Bedroom 2\n"
     ]
    },
    {
     "name": "stdin",
     "output_type": "stream",
     "text": [
      "Your choice:  2\n"
     ]
    },
    {
     "name": "stdout",
     "output_type": "stream",
     "text": [
      "You are in Bedroom 2. You find bookshelf, desk, chair, teddy bear, Double Bed, dresser, door b\n",
      "What would you like to do?\n",
      " '1 - solve puzzle'\n",
      " '2 - examine'\n",
      " '3 - go back\n"
     ]
    },
    {
     "name": "stdin",
     "output_type": "stream",
     "text": [
      " 3\n"
     ]
    },
    {
     "name": "stdout",
     "output_type": "stream",
     "text": [
      "To which room do you want to go back? Choose the room number:\n",
      "0 game room\n",
      "1 Bedroom 1\n",
      "3 bathroom\n"
     ]
    },
    {
     "name": "stdin",
     "output_type": "stream",
     "text": [
      "Your choice:  1\n"
     ]
    },
    {
     "name": "stdout",
     "output_type": "stream",
     "text": [
      "You are in Bedroom 1. You find Wardrobe, Night table, Broken Lamp, Scarecrow, Queen Bed, door a, door b, door c, door d\n",
      "What would you like to do?\n",
      " '1 - solve puzzle'\n",
      " '2 - examine'\n",
      " '3 - go back\n"
     ]
    },
    {
     "name": "stdin",
     "output_type": "stream",
     "text": [
      " 2\n",
      "What would you like to examine among Wardrobe, Night table, Broken Lamp, Scarecrow, Queen Bed, door a, door b, door c, door d?  door c\n"
     ]
    },
    {
     "name": "stdout",
     "output_type": "stream",
     "text": [
      "You examine door c. You unlock it with a key you have.\n"
     ]
    },
    {
     "name": "stdin",
     "output_type": "stream",
     "text": [
      "Do you want to go to the next room? Enter 'yes' or 'no. ' yes\n"
     ]
    },
    {
     "name": "stdout",
     "output_type": "stream",
     "text": [
      "You are in Living Room. You find table, christmas tree, elf figurines, santas sledge, presents, chandelier, chairs, door e\n",
      "What would you like to do?\n",
      " '1 - solve puzzle'\n",
      " '2 - examine'\n",
      " '3 - go back\n"
     ]
    },
    {
     "name": "stdin",
     "output_type": "stream",
     "text": [
      " 2\n",
      "What would you like to examine among table, christmas tree, elf figurines, santas sledge, presents, chandelier, chairs, door e?  christmas tree\n"
     ]
    },
    {
     "name": "stdout",
     "output_type": "stream",
     "text": [
      "          *          \n",
      "         ***         \n",
      "        *****        \n",
      "       *******       \n",
      "      *********      \n",
      "     ***********     \n",
      "    *************    \n",
      "   ***************   \n",
      "  *****************  \n",
      " ******************* \n",
      "          *          \n",
      "          *          \n",
      "You examine christmas tree. You find key for door e.\n",
      "You are in Living Room. You find table, christmas tree, elf figurines, santas sledge, presents, chandelier, chairs, door e\n",
      "What would you like to do?\n",
      " '1 - solve puzzle'\n",
      " '2 - examine'\n",
      " '3 - go back\n"
     ]
    },
    {
     "name": "stdin",
     "output_type": "stream",
     "text": [
      " 2\n",
      "What would you like to examine among table, christmas tree, elf figurines, santas sledge, presents, chandelier, chairs, door e?  door e\n"
     ]
    },
    {
     "name": "stdout",
     "output_type": "stream",
     "text": [
      "You examine door e. You unlock it with a key you have.\n"
     ]
    },
    {
     "name": "stdin",
     "output_type": "stream",
     "text": [
      "Do you want to go to the next room? Enter 'yes' or 'no. ' yes\n"
     ]
    },
    {
     "name": "stdout",
     "output_type": "stream",
     "text": [
      "Congrats! You escaped the room!\n",
      "\n",
      "\n",
      "\n",
      "\n",
      "\n",
      "\n",
      "\n",
      "\n",
      "\n",
      "\n",
      "\n",
      "\n",
      "\n",
      "\n",
      "\n",
      "\n",
      "\n",
      "\n",
      "\n",
      "\n",
      "\n",
      "\n",
      "\n",
      "\n",
      "\n",
      "\n",
      "\n",
      "\n",
      "\n",
      "\n",
      "\n",
      "\n",
      "\n",
      "\n",
      "\n",
      "\n",
      "\n",
      "\n",
      "\n",
      "\n",
      "\n",
      "\n",
      "\n",
      "\n",
      "\n"
     ]
    }
   ],
   "source": [
    "game_state = INIT_GAME_STATE.copy()\n",
    "\n",
    "start_game()\n"
   ]
  }
 ],
 "metadata": {
  "kernelspec": {
   "display_name": "Python 3 (ipykernel)",
   "language": "python",
   "name": "python3"
  },
  "language_info": {
   "codemirror_mode": {
    "name": "ipython",
    "version": 3
   },
   "file_extension": ".py",
   "mimetype": "text/x-python",
   "name": "python",
   "nbconvert_exporter": "python",
   "pygments_lexer": "ipython3",
   "version": "3.11.5"
  }
 },
 "nbformat": 4,
 "nbformat_minor": 4
}
